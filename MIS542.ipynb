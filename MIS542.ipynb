{
 "cells": [
  {
   "cell_type": "markdown",
   "id": "1dcea3cc",
   "metadata": {},
   "source": [
    "My Characteristics "
   ]
  },
  {
   "cell_type": "code",
   "execution_count": 3,
   "id": "235ba8bd",
   "metadata": {},
   "outputs": [
    {
     "name": "stdout",
     "output_type": "stream",
     "text": [
      "26\n"
     ]
    }
   ],
   "source": [
    "age=26\n",
    "gender='Male'\n",
    "exact_age=26.75\n",
    "print(age)"
   ]
  },
  {
   "cell_type": "code",
   "execution_count": 2,
   "id": "7e8290c9",
   "metadata": {},
   "outputs": [
    {
     "data": {
      "text/plain": [
       "int"
      ]
     },
     "execution_count": 2,
     "metadata": {},
     "output_type": "execute_result"
    }
   ],
   "source": [
    "type(age)"
   ]
  },
  {
   "cell_type": "code",
   "execution_count": 4,
   "id": "8d7c6230",
   "metadata": {},
   "outputs": [
    {
     "data": {
      "text/plain": [
       "str"
      ]
     },
     "execution_count": 4,
     "metadata": {},
     "output_type": "execute_result"
    }
   ],
   "source": [
    "type(gender)"
   ]
  },
  {
   "cell_type": "code",
   "execution_count": 5,
   "id": "9a4b3975",
   "metadata": {},
   "outputs": [
    {
     "data": {
      "text/plain": [
       "float"
      ]
     },
     "execution_count": 5,
     "metadata": {},
     "output_type": "execute_result"
    }
   ],
   "source": [
    "type(exact_age)"
   ]
  },
  {
   "cell_type": "markdown",
   "id": "3c70ddab",
   "metadata": {},
   "source": [
    "#My Characteristcs Equation "
   ]
  },
  {
   "cell_type": "code",
   "execution_count": 11,
   "id": "5b007a6f",
   "metadata": {},
   "outputs": [
    {
     "ename": "SyntaxError",
     "evalue": "invalid syntax (1252990962.py, line 1)",
     "output_type": "error",
     "traceback": [
      "\u001b[1;36m  File \u001b[1;32m\"C:\\Users\\jakes\\AppData\\Local\\Temp\\ipykernel_8632\\1252990962.py\"\u001b[1;36m, line \u001b[1;32m1\u001b[0m\n\u001b[1;33m    $\u001b[0m\n\u001b[1;37m    ^\u001b[0m\n\u001b[1;31mSyntaxError\u001b[0m\u001b[1;31m:\u001b[0m invalid syntax\n"
     ]
    }
   ],
   "source": [
    "$\n",
    "\\frac {a+b}\n",
    "$"
   ]
  },
  {
   "cell_type": "markdown",
   "id": "15c5a948",
   "metadata": {},
   "source": [
    "$$ \\frac(age+exact_age)(2) $$"
   ]
  },
  {
   "cell_type": "markdown",
   "id": "a2e85885",
   "metadata": {},
   "source": [
    "$$\n",
    "\\frac {a+b}\n",
    "$$"
   ]
  },
  {
   "cell_type": "markdown",
   "id": "1769d910",
   "metadata": {},
   "source": [
    "This is pythagorean theorem $$ x^2 +y^2 =z^2 $$"
   ]
  },
  {
   "cell_type": "code",
   "execution_count": 14,
   "id": "b1770a77",
   "metadata": {},
   "outputs": [
    {
     "name": "stdout",
     "output_type": "stream",
     "text": [
      "26\n"
     ]
    }
   ],
   "source": [
    "x=age\n",
    "y=exact_age\n",
    "print(x)                                                                                      "
   ]
  },
  {
   "cell_type": "code",
   "execution_count": 17,
   "id": "48377dcc",
   "metadata": {},
   "outputs": [
    {
     "ename": "SyntaxError",
     "evalue": "invalid syntax (1299450069.py, line 1)",
     "output_type": "error",
     "traceback": [
      "\u001b[1;36m  File \u001b[1;32m\"C:\\Users\\jakes\\AppData\\Local\\Temp\\ipykernel_8632\\1299450069.py\"\u001b[1;36m, line \u001b[1;32m1\u001b[0m\n\u001b[1;33m    $$ 𝑥^2+𝑦^2=𝑧^2 $$\u001b[0m\n\u001b[1;37m    ^\u001b[0m\n\u001b[1;31mSyntaxError\u001b[0m\u001b[1;31m:\u001b[0m invalid syntax\n"
     ]
    }
   ],
   "source": [
    "$$ 𝑥^2+𝑦^2=𝑧^2 $$"
   ]
  },
  {
   "cell_type": "code",
   "execution_count": null,
   "id": "2b9cb90d",
   "metadata": {},
   "outputs": [],
   "source": []
  }
 ],
 "metadata": {
  "kernelspec": {
   "display_name": "Python 3 (ipykernel)",
   "language": "python",
   "name": "python3"
  },
  "language_info": {
   "codemirror_mode": {
    "name": "ipython",
    "version": 3
   },
   "file_extension": ".py",
   "mimetype": "text/x-python",
   "name": "python",
   "nbconvert_exporter": "python",
   "pygments_lexer": "ipython3",
   "version": "3.9.13"
  }
 },
 "nbformat": 4,
 "nbformat_minor": 5
}
